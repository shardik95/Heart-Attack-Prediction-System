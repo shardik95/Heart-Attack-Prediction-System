{
  "nbformat": 4,
  "nbformat_minor": 0,
  "metadata": {
    "colab": {
      "name": "Project.ipynb",
      "version": "0.3.2",
      "provenance": [],
      "collapsed_sections": []
    },
    "kernelspec": {
      "name": "python3",
      "display_name": "Python 3"
    }
  },
  "cells": [
    {
      "metadata": {
        "id": "O0qEEAFcJ4cW",
        "colab_type": "code",
        "outputId": "1d85262e-0154-4e2e-fab0-e4d947cbb2e6",
        "colab": {
          "base_uri": "https://localhost:8080/",
          "height": 295
        }
      },
      "cell_type": "code",
      "source": [
        "!pip3 install urllib3\n",
        "!pip install numpy scipy matplotlib pandas cvxopt\n",
        "# !wget -c https://repo.continuum.io/archive/Anaconda3-5.1.0-Linux-x86_64.sh\n",
        "# !chmod +x Anaconda3-5.1.0-Linux-x86_64.sh\n",
        "# !bash ./Anaconda3-5.1.0-Linux-x86_64.sh -b -f -p /usr/local\n",
        "#!pip install conda\n",
        "# !conda update -n base conda\n",
        "# !conda install -y --prefix /usr/local -c python-graphviz python=3.6\n",
        "# !conda install python-graphviz"
      ],
      "execution_count": 1,
      "outputs": [
        {
          "output_type": "stream",
          "text": [
            "Requirement already satisfied: urllib3 in /usr/local/lib/python3.6/dist-packages (1.22)\n",
            "Requirement already satisfied: numpy in /usr/local/lib/python3.6/dist-packages (1.14.6)\n",
            "Requirement already satisfied: scipy in /usr/local/lib/python3.6/dist-packages (1.1.0)\n",
            "Requirement already satisfied: matplotlib in /usr/local/lib/python3.6/dist-packages (2.1.2)\n",
            "Requirement already satisfied: pandas in /usr/local/lib/python3.6/dist-packages (0.22.0)\n",
            "Requirement already satisfied: cvxopt in /usr/local/lib/python3.6/dist-packages (1.2.2)\n",
            "Requirement already satisfied: six>=1.10 in /usr/local/lib/python3.6/dist-packages (from matplotlib) (1.11.0)\n",
            "Requirement already satisfied: pyparsing!=2.0.4,!=2.1.2,!=2.1.6,>=2.0.1 in /usr/local/lib/python3.6/dist-packages (from matplotlib) (2.3.0)\n",
            "Requirement already satisfied: cycler>=0.10 in /usr/local/lib/python3.6/dist-packages (from matplotlib) (0.10.0)\n",
            "Requirement already satisfied: python-dateutil>=2.1 in /usr/local/lib/python3.6/dist-packages (from matplotlib) (2.5.3)\n",
            "Requirement already satisfied: pytz in /usr/local/lib/python3.6/dist-packages (from matplotlib) (2018.7)\n"
          ],
          "name": "stdout"
        }
      ]
    },
    {
      "metadata": {
        "id": "cbHDAuGNJAVb",
        "colab_type": "code",
        "colab": {}
      },
      "cell_type": "code",
      "source": [
        "import urllib3\n",
        "import numpy as np\n",
        "from scipy.stats import mode\n",
        "from math import log,ceil,sqrt\n",
        "from collections import namedtuple, Counter, defaultdict\n",
        "import pandas as pd\n",
        "from sklearn import metrics, tree\n",
        "from sklearn.ensemble import RandomForestClassifier\n",
        "# import graphviz\n",
        "import seaborn as sns\n",
        "from math import exp,log10\n",
        "from sklearn.neural_network import MLPClassifier\n",
        "\n",
        "import cvxopt\n",
        "from cvxopt import solvers,matrix\n",
        "\n",
        "import matplotlib.pyplot as plt\n",
        "from sklearn import svm, datasets\n",
        "\n",
        "from sklearn.svm import SVC\n",
        "from sklearn.neighbors import KNeighborsClassifier\n",
        "\n",
        "from sklearn.decomposition import PCA\n",
        "\n",
        "from sklearn.metrics import precision_recall_fscore_support"
      ],
      "execution_count": 0,
      "outputs": []
    },
    {
      "metadata": {
        "id": "eVxCYpVXs5RV",
        "colab_type": "code",
        "colab": {}
      },
      "cell_type": "code",
      "source": [
        "def plot_confusion_matrix(Y_actual,Y_predicted):\n",
        "    conf_matrix =  metrics.confusion_matrix(Y_actual,Y_predicted)\n",
        "    sns.heatmap(conf_matrix, annot=True,  fmt='', cmap=\"Blues\")"
      ],
      "execution_count": 0,
      "outputs": []
    },
    {
      "metadata": {
        "id": "KRcExVvaazwd",
        "colab_type": "code",
        "colab": {}
      },
      "cell_type": "code",
      "source": [
        "def plot_stats_bargraph(Y, Y_Predicted_SkSvm):\n",
        "  acc = precision_recall_fscore_support(Y, Y_Predicted_SkSvm, average='macro')\n",
        "\n",
        "  ind = np.arange(1)\n",
        "  width = 0.2\n",
        "  # Plotting the bar chart of accuracy, precision, recall & f1\n",
        "\n",
        "  fig, ax = plt.subplots()\n",
        "\n",
        "  ax.set_ylabel('Percentage')\n",
        "  ax.set_xticks(ind + width)\n",
        "  ax.set_xticklabels('')\n",
        "\n",
        "  bar1 = ax.bar(ind, acc[0], width, color='r')\n",
        "  bar2 = ax.bar(ind + width, acc[1], width, color='g')\n",
        "  bar3 = ax.bar(ind + width * 2, acc[2], width, color='b')\n",
        "\n",
        "  ax.legend((bar1[0], bar2[0], bar3[0]),\n",
        "            ('Precision', 'Recall', 'F1-score'), loc=2,prop={'size':8})"
      ],
      "execution_count": 0,
      "outputs": []
    },
    {
      "metadata": {
        "id": "4xLnLAc2m-WX",
        "colab_type": "code",
        "colab": {}
      },
      "cell_type": "code",
      "source": [
        "def normalize(Z):\n",
        "    mean = np.sum(Z,axis=0)/len(Z)\n",
        "    max = np.max(Z, axis=0)\n",
        "    min = np.min(Z, axis=0)\n",
        "    var = []\n",
        "    \n",
        "    for i in range(Z.shape[1]):\n",
        "        sum1 = 0\n",
        "        for j in range(Z.shape[0]):\n",
        "            sum1 += (Z[j,i] - mean[i])**2\n",
        "        var.append(1. *sum1/len(Z))\n",
        "\n",
        "    for i in range(Z.shape[1]):\n",
        "        for j in range(Z.shape[0]):\n",
        "#             Z[j,i] = (Z[j,i] - mean[i])/sqrt(var[i])      #Standardization\n",
        "#             Z[j,i] = (Z[j,i] - min[i])/(max[i] - min[i])    #Rescaling (min-max normalization)\n",
        "            Z[j,i] = (Z[j,i] - mean[i])/(max[i] - min[i])    #Mean normalization\n",
        "           \n",
        "    return Z"
      ],
      "execution_count": 0,
      "outputs": []
    },
    {
      "metadata": {
        "id": "cXInbpmo5jFm",
        "colab_type": "code",
        "colab": {}
      },
      "cell_type": "code",
      "source": [
        "###function to predict the accuracy on the basis of the predicted value###\n",
        "\n",
        "def accuracy(Y,Y_predicted):\n",
        "                \n",
        "    sum1 = sum([1 for i in range(len(Y)) if Y[i] == Y_predicted[i]])\n",
        "    return (1.0*sum1/len(Y))*100"
      ],
      "execution_count": 0,
      "outputs": []
    },
    {
      "metadata": {
        "id": "kJwuZXmMIrj0",
        "colab_type": "code",
        "outputId": "7885c417-dbee-4b02-823d-c34ccb3c663e",
        "colab": {
          "base_uri": "https://localhost:8080/",
          "height": 813
        }
      },
      "cell_type": "code",
      "source": [
        "url = \"https://archive.ics.uci.edu/ml/machine-learning-databases/heart-disease/processed.cleveland.data\"\n",
        "http = urllib3.PoolManager()\n",
        "\n",
        "response = http.request('GET', url)\n",
        "\n",
        "data = response.data.decode(\"utf-8\") \n",
        "data = data.split('\\n')[:-1]\n",
        "\n",
        "X = []\n",
        "Y = []\n",
        "colnames = ['age', 'sex', 'cp', 'trestbps', 'chol', 'fbs','restecg', 'thalach', 'exang','oldpeak','slope','ca','thal']\n",
        "for i in data:\n",
        "    \n",
        "    x = i.split(',')\n",
        "    \n",
        "    Y.append(float(x[len(x)-1]))\n",
        "    x = x[0:len(x)-1]\n",
        "    \n",
        "    for j in range(len(x)):\n",
        "        if x[j] == '?':\n",
        "            x[j] = -1\n",
        "    \n",
        "    x = map(float,x)\n",
        "    \n",
        "    X.append(list(x))\n",
        "    \n",
        "X = np.array(X)\n",
        "\n",
        "Y = np.reshape(np.array(Y),(len(Y),))\n",
        "Y[Y > 0] = 1\n",
        "\n",
        "for i in range(X.shape[1]):\n",
        "  m = mode(X[:,i])[0][0]\n",
        "  for j in range(X.shape[0]):\n",
        "        if X[j][i] == -1:\n",
        "            X[j][i] = m\n",
        "\n",
        "X_norm = normalize(X.copy())\n",
        "\n",
        "#Cleaned and Normalised Data\n",
        "print(X_norm)\n",
        "print(Y)\n",
        "\n",
        "dataFrame = pd.DataFrame(data=X,columns=colnames)\n",
        "dataFrame.describe()"
      ],
      "execution_count": 7,
      "outputs": [
        {
          "output_type": "stream",
          "text": [
            "[[ 0.17835534  0.32013201 -0.71947195 ...  0.69966997 -0.22112211\n",
            "   0.31930693]\n",
            " [ 0.26168867  0.32013201  0.28052805 ...  0.19966997  0.77887789\n",
            "  -0.43069307]\n",
            " [ 0.26168867  0.32013201  0.28052805 ...  0.19966997  0.44554455\n",
            "   0.56930693]\n",
            " ...\n",
            " [ 0.05335534  0.32013201  0.28052805 ...  0.19966997  0.11221122\n",
            "   0.56930693]\n",
            " [ 0.05335534 -0.67986799 -0.38613861 ...  0.19966997  0.11221122\n",
            "  -0.43069307]\n",
            " [-0.342478    0.32013201 -0.05280528 ... -0.30033003 -0.22112211\n",
            "  -0.43069307]]\n",
            "[0. 1. 1. 0. 0. 0. 1. 0. 1. 1. 0. 0. 1. 0. 0. 0. 1. 0. 0. 0. 0. 0. 1. 1.\n",
            " 1. 0. 0. 0. 0. 1. 0. 1. 1. 0. 0. 0. 1. 1. 1. 0. 1. 0. 0. 0. 1. 1. 0. 1.\n",
            " 0. 0. 0. 0. 1. 0. 1. 1. 1. 1. 0. 0. 1. 0. 1. 0. 1. 1. 1. 0. 1. 1. 0. 1.\n",
            " 1. 1. 1. 0. 1. 0. 0. 1. 0. 0. 0. 1. 0. 0. 0. 0. 0. 0. 0. 1. 0. 0. 0. 1.\n",
            " 1. 1. 0. 0. 0. 0. 0. 0. 1. 0. 1. 1. 1. 1. 1. 1. 0. 1. 1. 0. 0. 0. 1. 1.\n",
            " 1. 1. 0. 1. 1. 0. 1. 1. 0. 0. 0. 0. 0. 0. 0. 0. 1. 1. 1. 0. 0. 1. 0. 1.\n",
            " 0. 1. 1. 0. 0. 0. 0. 0. 0. 1. 1. 1. 1. 1. 1. 0. 0. 1. 0. 0. 0. 0. 0. 0.\n",
            " 1. 0. 1. 0. 1. 0. 1. 1. 0. 1. 0. 0. 1. 1. 0. 0. 1. 0. 0. 1. 1. 1. 0. 1.\n",
            " 1. 1. 0. 1. 0. 0. 0. 1. 0. 0. 0. 0. 0. 1. 1. 1. 0. 1. 0. 1. 0. 1. 1. 0.\n",
            " 0. 0. 0. 0. 0. 0. 0. 1. 1. 0. 0. 0. 1. 1. 0. 1. 1. 0. 0. 1. 1. 1. 0. 0.\n",
            " 0. 0. 0. 1. 0. 1. 1. 1. 1. 0. 0. 1. 0. 0. 0. 0. 0. 0. 0. 1. 0. 1. 0. 0.\n",
            " 1. 1. 1. 1. 1. 0. 1. 0. 1. 0. 1. 0. 0. 0. 1. 0. 1. 0. 1. 0. 1. 1. 1. 0.\n",
            " 0. 0. 1. 0. 1. 1. 1. 0. 1. 1. 1. 1. 1. 1. 0.]\n"
          ],
          "name": "stdout"
        },
        {
          "output_type": "stream",
          "text": [
            "/usr/local/lib/python3.6/dist-packages/urllib3/connectionpool.py:858: InsecureRequestWarning: Unverified HTTPS request is being made. Adding certificate verification is strongly advised. See: https://urllib3.readthedocs.io/en/latest/advanced-usage.html#ssl-warnings\n",
            "  InsecureRequestWarning)\n"
          ],
          "name": "stderr"
        },
        {
          "output_type": "execute_result",
          "data": {
            "text/html": [
              "<div>\n",
              "<style scoped>\n",
              "    .dataframe tbody tr th:only-of-type {\n",
              "        vertical-align: middle;\n",
              "    }\n",
              "\n",
              "    .dataframe tbody tr th {\n",
              "        vertical-align: top;\n",
              "    }\n",
              "\n",
              "    .dataframe thead th {\n",
              "        text-align: right;\n",
              "    }\n",
              "</style>\n",
              "<table border=\"1\" class=\"dataframe\">\n",
              "  <thead>\n",
              "    <tr style=\"text-align: right;\">\n",
              "      <th></th>\n",
              "      <th>age</th>\n",
              "      <th>sex</th>\n",
              "      <th>cp</th>\n",
              "      <th>trestbps</th>\n",
              "      <th>chol</th>\n",
              "      <th>fbs</th>\n",
              "      <th>restecg</th>\n",
              "      <th>thalach</th>\n",
              "      <th>exang</th>\n",
              "      <th>oldpeak</th>\n",
              "      <th>slope</th>\n",
              "      <th>ca</th>\n",
              "      <th>thal</th>\n",
              "    </tr>\n",
              "  </thead>\n",
              "  <tbody>\n",
              "    <tr>\n",
              "      <th>count</th>\n",
              "      <td>303.000000</td>\n",
              "      <td>303.000000</td>\n",
              "      <td>303.000000</td>\n",
              "      <td>303.000000</td>\n",
              "      <td>303.000000</td>\n",
              "      <td>303.000000</td>\n",
              "      <td>303.000000</td>\n",
              "      <td>303.000000</td>\n",
              "      <td>303.000000</td>\n",
              "      <td>303.000000</td>\n",
              "      <td>303.000000</td>\n",
              "      <td>303.000000</td>\n",
              "      <td>303.000000</td>\n",
              "    </tr>\n",
              "    <tr>\n",
              "      <th>mean</th>\n",
              "      <td>54.438944</td>\n",
              "      <td>0.679868</td>\n",
              "      <td>3.158416</td>\n",
              "      <td>131.689769</td>\n",
              "      <td>246.693069</td>\n",
              "      <td>0.148515</td>\n",
              "      <td>0.990099</td>\n",
              "      <td>149.607261</td>\n",
              "      <td>0.326733</td>\n",
              "      <td>1.039604</td>\n",
              "      <td>1.600660</td>\n",
              "      <td>0.663366</td>\n",
              "      <td>4.722772</td>\n",
              "    </tr>\n",
              "    <tr>\n",
              "      <th>std</th>\n",
              "      <td>9.038662</td>\n",
              "      <td>0.467299</td>\n",
              "      <td>0.960126</td>\n",
              "      <td>17.599748</td>\n",
              "      <td>51.776918</td>\n",
              "      <td>0.356198</td>\n",
              "      <td>0.994971</td>\n",
              "      <td>22.875003</td>\n",
              "      <td>0.469794</td>\n",
              "      <td>1.161075</td>\n",
              "      <td>0.616226</td>\n",
              "      <td>0.934375</td>\n",
              "      <td>1.938383</td>\n",
              "    </tr>\n",
              "    <tr>\n",
              "      <th>min</th>\n",
              "      <td>29.000000</td>\n",
              "      <td>0.000000</td>\n",
              "      <td>1.000000</td>\n",
              "      <td>94.000000</td>\n",
              "      <td>126.000000</td>\n",
              "      <td>0.000000</td>\n",
              "      <td>0.000000</td>\n",
              "      <td>71.000000</td>\n",
              "      <td>0.000000</td>\n",
              "      <td>0.000000</td>\n",
              "      <td>1.000000</td>\n",
              "      <td>0.000000</td>\n",
              "      <td>3.000000</td>\n",
              "    </tr>\n",
              "    <tr>\n",
              "      <th>25%</th>\n",
              "      <td>48.000000</td>\n",
              "      <td>0.000000</td>\n",
              "      <td>3.000000</td>\n",
              "      <td>120.000000</td>\n",
              "      <td>211.000000</td>\n",
              "      <td>0.000000</td>\n",
              "      <td>0.000000</td>\n",
              "      <td>133.500000</td>\n",
              "      <td>0.000000</td>\n",
              "      <td>0.000000</td>\n",
              "      <td>1.000000</td>\n",
              "      <td>0.000000</td>\n",
              "      <td>3.000000</td>\n",
              "    </tr>\n",
              "    <tr>\n",
              "      <th>50%</th>\n",
              "      <td>56.000000</td>\n",
              "      <td>1.000000</td>\n",
              "      <td>3.000000</td>\n",
              "      <td>130.000000</td>\n",
              "      <td>241.000000</td>\n",
              "      <td>0.000000</td>\n",
              "      <td>1.000000</td>\n",
              "      <td>153.000000</td>\n",
              "      <td>0.000000</td>\n",
              "      <td>0.800000</td>\n",
              "      <td>2.000000</td>\n",
              "      <td>0.000000</td>\n",
              "      <td>3.000000</td>\n",
              "    </tr>\n",
              "    <tr>\n",
              "      <th>75%</th>\n",
              "      <td>61.000000</td>\n",
              "      <td>1.000000</td>\n",
              "      <td>4.000000</td>\n",
              "      <td>140.000000</td>\n",
              "      <td>275.000000</td>\n",
              "      <td>0.000000</td>\n",
              "      <td>2.000000</td>\n",
              "      <td>166.000000</td>\n",
              "      <td>1.000000</td>\n",
              "      <td>1.600000</td>\n",
              "      <td>2.000000</td>\n",
              "      <td>1.000000</td>\n",
              "      <td>7.000000</td>\n",
              "    </tr>\n",
              "    <tr>\n",
              "      <th>max</th>\n",
              "      <td>77.000000</td>\n",
              "      <td>1.000000</td>\n",
              "      <td>4.000000</td>\n",
              "      <td>200.000000</td>\n",
              "      <td>564.000000</td>\n",
              "      <td>1.000000</td>\n",
              "      <td>2.000000</td>\n",
              "      <td>202.000000</td>\n",
              "      <td>1.000000</td>\n",
              "      <td>6.200000</td>\n",
              "      <td>3.000000</td>\n",
              "      <td>3.000000</td>\n",
              "      <td>7.000000</td>\n",
              "    </tr>\n",
              "  </tbody>\n",
              "</table>\n",
              "</div>"
            ],
            "text/plain": [
              "              age         sex          cp    trestbps        chol         fbs  \\\n",
              "count  303.000000  303.000000  303.000000  303.000000  303.000000  303.000000   \n",
              "mean    54.438944    0.679868    3.158416  131.689769  246.693069    0.148515   \n",
              "std      9.038662    0.467299    0.960126   17.599748   51.776918    0.356198   \n",
              "min     29.000000    0.000000    1.000000   94.000000  126.000000    0.000000   \n",
              "25%     48.000000    0.000000    3.000000  120.000000  211.000000    0.000000   \n",
              "50%     56.000000    1.000000    3.000000  130.000000  241.000000    0.000000   \n",
              "75%     61.000000    1.000000    4.000000  140.000000  275.000000    0.000000   \n",
              "max     77.000000    1.000000    4.000000  200.000000  564.000000    1.000000   \n",
              "\n",
              "          restecg     thalach       exang     oldpeak       slope          ca  \\\n",
              "count  303.000000  303.000000  303.000000  303.000000  303.000000  303.000000   \n",
              "mean     0.990099  149.607261    0.326733    1.039604    1.600660    0.663366   \n",
              "std      0.994971   22.875003    0.469794    1.161075    0.616226    0.934375   \n",
              "min      0.000000   71.000000    0.000000    0.000000    1.000000    0.000000   \n",
              "25%      0.000000  133.500000    0.000000    0.000000    1.000000    0.000000   \n",
              "50%      1.000000  153.000000    0.000000    0.800000    2.000000    0.000000   \n",
              "75%      2.000000  166.000000    1.000000    1.600000    2.000000    1.000000   \n",
              "max      2.000000  202.000000    1.000000    6.200000    3.000000    3.000000   \n",
              "\n",
              "             thal  \n",
              "count  303.000000  \n",
              "mean     4.722772  \n",
              "std      1.938383  \n",
              "min      3.000000  \n",
              "25%      3.000000  \n",
              "50%      3.000000  \n",
              "75%      7.000000  \n",
              "max      7.000000  "
            ]
          },
          "metadata": {
            "tags": []
          },
          "execution_count": 7
        }
      ]
    },
    {
      "metadata": {
        "id": "SgeV-RWnc-wI",
        "colab_type": "code",
        "outputId": "abe44f74-7834-422f-dbb7-7c7501aeeede",
        "colab": {
          "base_uri": "https://localhost:8080/",
          "height": 204
        }
      },
      "cell_type": "code",
      "source": [
        "# Printing first 5 rows\n",
        "dataFrame.head()"
      ],
      "execution_count": 8,
      "outputs": [
        {
          "output_type": "execute_result",
          "data": {
            "text/html": [
              "<div>\n",
              "<style scoped>\n",
              "    .dataframe tbody tr th:only-of-type {\n",
              "        vertical-align: middle;\n",
              "    }\n",
              "\n",
              "    .dataframe tbody tr th {\n",
              "        vertical-align: top;\n",
              "    }\n",
              "\n",
              "    .dataframe thead th {\n",
              "        text-align: right;\n",
              "    }\n",
              "</style>\n",
              "<table border=\"1\" class=\"dataframe\">\n",
              "  <thead>\n",
              "    <tr style=\"text-align: right;\">\n",
              "      <th></th>\n",
              "      <th>age</th>\n",
              "      <th>sex</th>\n",
              "      <th>cp</th>\n",
              "      <th>trestbps</th>\n",
              "      <th>chol</th>\n",
              "      <th>fbs</th>\n",
              "      <th>restecg</th>\n",
              "      <th>thalach</th>\n",
              "      <th>exang</th>\n",
              "      <th>oldpeak</th>\n",
              "      <th>slope</th>\n",
              "      <th>ca</th>\n",
              "      <th>thal</th>\n",
              "    </tr>\n",
              "  </thead>\n",
              "  <tbody>\n",
              "    <tr>\n",
              "      <th>0</th>\n",
              "      <td>63.0</td>\n",
              "      <td>1.0</td>\n",
              "      <td>1.0</td>\n",
              "      <td>145.0</td>\n",
              "      <td>233.0</td>\n",
              "      <td>1.0</td>\n",
              "      <td>2.0</td>\n",
              "      <td>150.0</td>\n",
              "      <td>0.0</td>\n",
              "      <td>2.3</td>\n",
              "      <td>3.0</td>\n",
              "      <td>0.0</td>\n",
              "      <td>6.0</td>\n",
              "    </tr>\n",
              "    <tr>\n",
              "      <th>1</th>\n",
              "      <td>67.0</td>\n",
              "      <td>1.0</td>\n",
              "      <td>4.0</td>\n",
              "      <td>160.0</td>\n",
              "      <td>286.0</td>\n",
              "      <td>0.0</td>\n",
              "      <td>2.0</td>\n",
              "      <td>108.0</td>\n",
              "      <td>1.0</td>\n",
              "      <td>1.5</td>\n",
              "      <td>2.0</td>\n",
              "      <td>3.0</td>\n",
              "      <td>3.0</td>\n",
              "    </tr>\n",
              "    <tr>\n",
              "      <th>2</th>\n",
              "      <td>67.0</td>\n",
              "      <td>1.0</td>\n",
              "      <td>4.0</td>\n",
              "      <td>120.0</td>\n",
              "      <td>229.0</td>\n",
              "      <td>0.0</td>\n",
              "      <td>2.0</td>\n",
              "      <td>129.0</td>\n",
              "      <td>1.0</td>\n",
              "      <td>2.6</td>\n",
              "      <td>2.0</td>\n",
              "      <td>2.0</td>\n",
              "      <td>7.0</td>\n",
              "    </tr>\n",
              "    <tr>\n",
              "      <th>3</th>\n",
              "      <td>37.0</td>\n",
              "      <td>1.0</td>\n",
              "      <td>3.0</td>\n",
              "      <td>130.0</td>\n",
              "      <td>250.0</td>\n",
              "      <td>0.0</td>\n",
              "      <td>0.0</td>\n",
              "      <td>187.0</td>\n",
              "      <td>0.0</td>\n",
              "      <td>3.5</td>\n",
              "      <td>3.0</td>\n",
              "      <td>0.0</td>\n",
              "      <td>3.0</td>\n",
              "    </tr>\n",
              "    <tr>\n",
              "      <th>4</th>\n",
              "      <td>41.0</td>\n",
              "      <td>0.0</td>\n",
              "      <td>2.0</td>\n",
              "      <td>130.0</td>\n",
              "      <td>204.0</td>\n",
              "      <td>0.0</td>\n",
              "      <td>2.0</td>\n",
              "      <td>172.0</td>\n",
              "      <td>0.0</td>\n",
              "      <td>1.4</td>\n",
              "      <td>1.0</td>\n",
              "      <td>0.0</td>\n",
              "      <td>3.0</td>\n",
              "    </tr>\n",
              "  </tbody>\n",
              "</table>\n",
              "</div>"
            ],
            "text/plain": [
              "    age  sex   cp  trestbps   chol  fbs  restecg  thalach  exang  oldpeak  \\\n",
              "0  63.0  1.0  1.0     145.0  233.0  1.0      2.0    150.0    0.0      2.3   \n",
              "1  67.0  1.0  4.0     160.0  286.0  0.0      2.0    108.0    1.0      1.5   \n",
              "2  67.0  1.0  4.0     120.0  229.0  0.0      2.0    129.0    1.0      2.6   \n",
              "3  37.0  1.0  3.0     130.0  250.0  0.0      0.0    187.0    0.0      3.5   \n",
              "4  41.0  0.0  2.0     130.0  204.0  0.0      2.0    172.0    0.0      1.4   \n",
              "\n",
              "   slope   ca  thal  \n",
              "0    3.0  0.0   6.0  \n",
              "1    2.0  3.0   3.0  \n",
              "2    2.0  2.0   7.0  \n",
              "3    3.0  0.0   3.0  \n",
              "4    1.0  0.0   3.0  "
            ]
          },
          "metadata": {
            "tags": []
          },
          "execution_count": 8
        }
      ]
    },
    {
      "metadata": {
        "id": "5XHNMV6wcsD7",
        "colab_type": "text"
      },
      "cell_type": "markdown",
      "source": [
        "**DECISION TREE (ID3 Algorithm)**"
      ]
    },
    {
      "metadata": {
        "id": "JbeWA9vVsOrm",
        "colab_type": "code",
        "outputId": "f9e71a4e-0804-49b4-a526-66e3b51523d0",
        "colab": {
          "base_uri": "https://localhost:8080/",
          "height": 1145
        }
      },
      "cell_type": "code",
      "source": [
        "\n",
        "trainingTuple = namedtuple('TrainingData', ('X', 'Y'))\n",
        "\n",
        "class CreateNode(dict):\n",
        "\n",
        "    def __init__(self, feature):\n",
        "        self.feature = feature\n",
        "        \n",
        "    def is_leaf(self):\n",
        "        return False\n",
        "\n",
        "\n",
        "class CreateLeaf(dict):\n",
        "  \n",
        "    def __init__(self, clas):\n",
        "       \n",
        "        self.clas = clas\n",
        "\n",
        "    def is_leaf(self):\n",
        "        return True\n",
        "      \n",
        "      \n",
        "class Id3(object):\n",
        "  \n",
        "    def __init__(self):\n",
        "        self.root = None\n",
        "     \n",
        "    def create_decision_tree(self, data, target):\n",
        "        #Examples\n",
        "        training = []\n",
        "        for i,j in zip(data,target):\n",
        "            training.append(trainingTuple(i,j))\n",
        "        \n",
        "        #Creating decisionTree\n",
        "        self.root = self.decision_tree(training, attributes = list(data[0]))\n",
        "    \n",
        "    def mode(self,rows):\n",
        "        classes = []\n",
        "        for i in rows:\n",
        "            classes.append(i.Y)\n",
        "        mode_class = Counter(classes).most_common()[0][0]\n",
        "        return mode_class\n",
        "    \n",
        "    def decision_tree(self, data, attributes):\n",
        "       \n",
        "        #if no attrbutes are left\n",
        "        if len(attributes) == 0:\n",
        "            class_def = self.mode(data)\n",
        "            root = CreateLeaf(class_def) \n",
        "        else:\n",
        "            labels = []\n",
        "            for i in data:\n",
        "                labels.append(i.Y)\n",
        "            \n",
        "            #if All labels are same\n",
        "            if len(set(labels)) == 1:\n",
        "                target_label = data[0].Y\n",
        "                root = CreateLeaf(target_label)\n",
        "                \n",
        "            else:\n",
        "                #select attribute with best information gain\n",
        "                \n",
        "                split_attribute = self.high_infogain_attribute(data,attributes,labels)\n",
        "                root = CreateNode(split_attribute)\n",
        "                best_attr_val = set([i.X[split_attribute] for i in data])\n",
        "                \n",
        "                #select the subtree and recurse\n",
        "                for val in best_attr_val:\n",
        "                    subtree_training_data = []\n",
        "                    for i in data:\n",
        "                        if i.X[split_attribute] == val:\n",
        "                            subtree_training_data.append(i)\n",
        "                            \n",
        "                    #create children nodes.\n",
        "                    child = self.decision_tree(subtree_training_data,attributes)\n",
        "                    root[val] = child\n",
        "        return root\n",
        "     \n",
        "    #selecting attribute with highest gain\n",
        "    def high_infogain_attribute(self, rows, attributes, labels):\n",
        "        information_gain = []\n",
        "        for i in range(len(attributes)):\n",
        "            information_gain.append((self.info_gain_calc(rows, i, labels), i))\n",
        "        \n",
        "        info_gain_sorted = sorted(information_gain, key=lambda x: x[0])\n",
        "        highest_info_gain = info_gain_sorted[-1][1]\n",
        "        \n",
        "        attributes.pop(len(attributes)-1)\n",
        "        print(info_gain_sorted)\n",
        "        return highest_info_gain\n",
        "\n",
        "    #calculating the gain\n",
        "    def info_gain_calc(self, data, attributes, labels):\n",
        "      \n",
        "        branches = defaultdict(list)\n",
        "        entropy_before = self.entropy(labels)\n",
        "        for i in data:\n",
        "            branches[i.X[attributes]].append(i)\n",
        "        after_entropy = 0.0\n",
        "        for i in branches.values():\n",
        "            class_branch = []\n",
        "            for j in i:\n",
        "                class_branch.append(j.Y)\n",
        "            after_entropy += (len(branches) / len(data)) * self.entropy(class_branch)\n",
        "        return entropy_before - after_entropy\n",
        "    \n",
        "    #calculating entropy\n",
        "    def entropy(self,data):\n",
        "        def log2(x):\n",
        "            if x == 0:\n",
        "                return 0\n",
        "            else:\n",
        "                return log(x)/log(2)\n",
        "        counter = Counter(data)\n",
        "        N = len(data)\n",
        "        ent = []\n",
        "        for i in counter:\n",
        "            ent.append(-1.0*(counter[i] / len(data))*log2(counter[i] / len(data)))\n",
        "        return sum(ent)\n",
        "    \n",
        "    #predicting the label\n",
        "    def predict(self, X, allow_unclassified=False):\n",
        "        class_def = 1\n",
        "        if allow_unclassified:\n",
        "            class_def = -99\n",
        "        predicted = []\n",
        "\n",
        "        for training in X:\n",
        "            predicted_label = None\n",
        "            current_node = self.root\n",
        "            while predicted_label is None:\n",
        "                if current_node.is_leaf():\n",
        "                    predicted_label = current_node.clas\n",
        "                else:\n",
        "                    \n",
        "                    key_value = training[current_node.feature]\n",
        "                    if key_value in current_node:\n",
        "                        current_node = current_node[key_value]\n",
        "                    else:\n",
        "                        predicted_label = class_def\n",
        "            predicted.append(predicted_label)\n",
        "        return predicted\n",
        "      \n",
        "clf = Id3()\n",
        "clf.create_decision_tree(X_norm[:250],Y[:250])\n",
        "Y_predicted = clf.predict(X_norm[250:])\n",
        "\n",
        "\n",
        "print (\"Accuracy of the Decision Tree is: \"+ str(accuracy(Y[250:],Y_predicted)))\n",
        "print (\"Precision and Recall for the Decision Tree\\n\")\n",
        "print (metrics.classification_report(Y[250:],Y_predicted))\n",
        "print (\"Confusion Matrix\\n\")\n",
        "plot_confusion_matrix(Y[250:],Y_predicted)\n",
        "plot_stats_bargraph(Y[250:], Y_predicted)\n",
        "\n",
        "\n"
      ],
      "execution_count": 9,
      "outputs": [
        {
          "output_type": "stream",
          "text": [
            "[(-17.45382861085981, 4), (-11.237768217040232, 7), (-3.452680190490664, 0), (-2.9230096302465722, 3), (-1.5196099057219676, 9), (0.9425690189977565, 11), (0.9444985082330323, 2), (0.959905887509417, 10), (0.9618248890673375, 12), (0.9690710838490171, 6), (0.9764175561513732, 5), (0.9779081087812802, 1), (0.9786909958382057, 8)]\n",
            "[(-9.378206805053743, 7), (-7.655052677365614, 4), (-3.038093108769218, 0), (-2.3579963015115304, 3), (-1.4173253847099576, 9), (0.7942581497155747, 11), (0.8019370084732157, 2), (0.8292232763617647, 10), (0.8551179451572237, 6), (0.8565386884841218, 1), (0.8567925592228384, 5), (0.8700468146089122, 8)]\n",
            "[(-9.378206805053743, 7), (-7.655052677365614, 4), (-3.038093108769218, 0), (-2.3579963015115304, 3), (-1.4173253847099576, 9), (0.8019370084732157, 2), (0.8292232763617647, 10), (0.8551179451572237, 6), (0.8565386884841218, 1), (0.8567925592228384, 5), (0.8700468146089122, 8)]\n",
            "[(-9.378206805053743, 7), (-7.655052677365614, 4), (-3.038093108769218, 0), (-2.3579963015115304, 3), (-1.4173253847099576, 9), (0.8019370084732157, 2), (0.8551179451572237, 6), (0.8565386884841218, 1), (0.8567925592228384, 5), (0.8700468146089122, 8)]\n",
            "[(-9.378206805053743, 7), (-7.655052677365614, 4), (-3.038093108769218, 0), (-2.3579963015115304, 3), (0.8019370084732157, 2), (0.8551179451572237, 6), (0.8565386884841218, 1), (0.8567925592228384, 5), (0.8700468146089122, 8)]\n",
            "[(-9.378206805053743, 7), (-7.655052677365614, 4), (-3.038093108769218, 0), (-2.3579963015115304, 3), (0.8019370084732157, 2), (0.8551179451572237, 6), (0.8565386884841218, 1), (0.8567925592228384, 5)]\n",
            "[(-1.4056904453594339, 0), (-0.045690445359433896, 3), (0.3889965595451269, 2), (0.5319678230002151, 1), (0.5327571853343968, 6), (0.6089371724549435, 5), (0.6343095546405662, 4)]\n",
            "[(-4.721752323911847, 4), (-3.661045054019732, 0), (-2.277737302177297, 3), (0.8121857536902083, 2), (0.8810484753255962, 1), (0.8970460831840902, 5)]\n",
            "[(-4.721752323911847, 4), (-3.661045054019732, 0), (-2.277737302177297, 3), (0.8121857536902083, 2), (0.8810484753255962, 1)]\n",
            "[(-3.6647536255147637, 0), (-2.362014828602419, 3), (0.8168293035305987, 2), (0.97626317242086, 1)]\n",
            "[(-3.6647536255147637, 0), (0.8168293035305987, 2), (0.97626317242086, 1)]\n",
            "[(-3.6647536255147637, 0), (0.97626317242086, 1)]\n",
            "[(-3.6647536255147637, 0)]\n",
            "Accuracy of the Decision Tree is: 77.35849056603774\n",
            "Precision and Recall for the Decision Tree\n",
            "\n",
            "              precision    recall  f1-score   support\n",
            "\n",
            "         0.0       0.79      0.73      0.76        26\n",
            "         1.0       0.76      0.81      0.79        27\n",
            "\n",
            "   micro avg       0.77      0.77      0.77        53\n",
            "   macro avg       0.78      0.77      0.77        53\n",
            "weighted avg       0.77      0.77      0.77        53\n",
            "\n",
            "Confusion Matrix\n",
            "\n"
          ],
          "name": "stdout"
        },
        {
          "output_type": "display_data",
          "data": {
            "image/png": "[encoded data removed]",
            "text/plain": [
              "<matplotlib.figure.Figure at 0x7facffffbda0>"
            ]
          },
          "metadata": {
            "tags": []
          }
        },
        {
          "output_type": "display_data",
          "data": {
            "image/png": "[encoded data removed]",
            "text/plain": [
              "<matplotlib.figure.Figure at 0x7facffffbcc0>"
            ]
          },
          "metadata": {
            "tags": []
          }
        }
      ]
    },
    {
      "metadata": {
        "id": "Hey5wagLc4OS",
        "colab_type": "text"
      },
      "cell_type": "markdown",
      "source": [
        "**DECISION TREE USING SKLEARN**"
      ]
    },
    {
      "metadata": {
        "id": "iOipK2n-8NMb",
        "colab_type": "code",
        "outputId": "4e6d3fce-d437-4313-85a9-97b0eacf5722",
        "colab": {
          "base_uri": "https://localhost:8080/",
          "height": 904
        }
      },
      "cell_type": "code",
      "source": [
        "#Decision tree from Sklearn\n",
        "clf2 = tree.DecisionTreeClassifier()\n",
        "clf2 = clf2.fit(X_norm[:250],Y[:250])\n",
        "\n",
        "# dot_data = tree.export_graphviz(clf2, out_file = None, filled = True, rounded = True, special_characters = True, feature_names = colnames,proportion=True)\n",
        "# graph = graphviz.Source(dot_data)\n",
        "# graph\n",
        "Y_predicted_sk = clf2.predict(X_norm[250:])\n",
        "\n",
        "\n",
        "print (\"Accuracy of the Decision Tree is: \"+ str(accuracy(Y[250:],Y_predicted_sk)))\n",
        "print (\"Precision and Recall for the Decision Tree\\n\")\n",
        "print (metrics.classification_report(Y[250:],Y_predicted_sk))\n",
        "print (\"Confusion Matrix\\n\")\n",
        "plot_confusion_matrix(Y[250:],Y_predicted_sk)\n",
        "plot_stats_bargraph(Y[250:], Y_predicted_sk)"
      ],
      "execution_count": 10,
      "outputs": [
        {
          "output_type": "stream",
          "text": [
            "Accuracy of the Decision Tree is: 69.81132075471697\n",
            "Precision and Recall for the Decision Tree\n",
            "\n",
            "              precision    recall  f1-score   support\n",
            "\n",
            "         0.0       0.65      0.85      0.73        26\n",
            "         1.0       0.79      0.56      0.65        27\n",
            "\n",
            "   micro avg       0.70      0.70      0.70        53\n",
            "   macro avg       0.72      0.70      0.69        53\n",
            "weighted avg       0.72      0.70      0.69        53\n",
            "\n",
            "Confusion Matrix\n",
            "\n"
          ],
          "name": "stdout"
        },
        {
          "output_type": "display_data",
          "data": {
            "image/png": "[encoded data removed]",
            "text/plain": [
              "<matplotlib.figure.Figure at 0x7fad006e8668>"
            ]
          },
          "metadata": {
            "tags": []
          }
        },
        {
          "output_type": "display_data",
          "data": {
            "image/png": "[encoded data removed]",
            "text/plain": [
              "<matplotlib.figure.Figure at 0x7fad006cbe48>"
            ]
          },
          "metadata": {
            "tags": []
          }
        }
      ]
    },
    {
      "metadata": {
        "id": "l-wIMXM1c_sF",
        "colab_type": "text"
      },
      "cell_type": "markdown",
      "source": [
        "**RANDOM FOREST CLASSIFIER SKLEARN**"
      ]
    },
    {
      "metadata": {
        "id": "dmJ2yWppwQl-",
        "colab_type": "code",
        "outputId": "8b1dabf2-64e3-44fe-894f-08f83fa4a46b",
        "colab": {
          "base_uri": "https://localhost:8080/",
          "height": 1060
        }
      },
      "cell_type": "code",
      "source": [
        "clf3 = RandomForestClassifier(max_features=13, random_state=1)\n",
        "print(clf3)\n",
        "clf3 = clf3.fit(X_norm[:250],Y[:250])\n",
        "\n",
        "Y_predicted_RandomForest = clf3.predict(X_norm[250:])\n",
        "\n",
        "print (\"Accuracy of the Random Forest is: \"+ str(accuracy(Y[250:],Y_predicted_RandomForest)))\n",
        "print (\"Precision and Recall for the Random Forest\\n\")\n",
        "print (metrics.classification_report(Y[250:],Y_predicted_RandomForest))\n",
        "print (\"Confusion Matrix\\n\")\n",
        "plot_confusion_matrix(Y[250:],Y_predicted_RandomForest)\n",
        "plot_stats_bargraph(Y[250:], Y_predicted_RandomForest)\n"
      ],
      "execution_count": 11,
      "outputs": [
        {
          "output_type": "stream",
          "text": [
            "RandomForestClassifier(bootstrap=True, class_weight=None, criterion='gini',\n",
            "            max_depth=None, max_features=13, max_leaf_nodes=None,\n",
            "            min_impurity_decrease=0.0, min_impurity_split=None,\n",
            "            min_samples_leaf=1, min_samples_split=2,\n",
            "            min_weight_fraction_leaf=0.0, n_estimators='warn', n_jobs=None,\n",
            "            oob_score=False, random_state=1, verbose=0, warm_start=False)\n",
            "Accuracy of the Random Forest is: 73.58490566037736\n",
            "Precision and Recall for the Random Forest\n",
            "\n",
            "              precision    recall  f1-score   support\n",
            "\n",
            "         0.0       0.68      0.88      0.77        26\n",
            "         1.0       0.84      0.59      0.70        27\n",
            "\n",
            "   micro avg       0.74      0.74      0.74        53\n",
            "   macro avg       0.76      0.74      0.73        53\n",
            "weighted avg       0.76      0.74      0.73        53\n",
            "\n",
            "Confusion Matrix\n",
            "\n"
          ],
          "name": "stdout"
        },
        {
          "output_type": "stream",
          "text": [
            "/usr/local/lib/python3.6/dist-packages/sklearn/ensemble/forest.py:246: FutureWarning: The default value of n_estimators will change from 10 in version 0.20 to 100 in 0.22.\n",
            "  \"10 in version 0.20 to 100 in 0.22.\", FutureWarning)\n"
          ],
          "name": "stderr"
        },
        {
          "output_type": "display_data",
          "data": {
            "image/png": "[encoded data removed]",
            "text/plain": [
              "<matplotlib.figure.Figure at 0x7fad0000f940>"
            ]
          },
          "metadata": {
            "tags": []
          }
        },
        {
          "output_type": "display_data",
          "data": {
            "image/png": "[encoded data removed]",
            "text/plain": [
              "<matplotlib.figure.Figure at 0x7fad0000f320>"
            ]
          },
          "metadata": {
            "tags": []
          }
        }
      ]
    },
    {
      "metadata": {
        "id": "MuwxP6zNdKVE",
        "colab_type": "text"
      },
      "cell_type": "markdown",
      "source": [
        "**PLOTTING FEATURES BASED ON RESULTS**"
      ]
    },
    {
      "metadata": {
        "id": "TPYG4qUJ2WzX",
        "colab_type": "code",
        "outputId": "145a6e07-d2d8-47e8-c170-4295e3d7178f",
        "colab": {
          "base_uri": "https://localhost:8080/",
          "height": 606
        }
      },
      "cell_type": "code",
      "source": [
        "importances = clf3.feature_importances_\n",
        "std = np.std([tree.feature_importances_ for tree in clf3.estimators_],\n",
        "             axis=0)\n",
        "indices = np.argsort(importances)[::-1]\n",
        "\n",
        "print(\"Feature ranking:\")\n",
        "\n",
        "for f in range(X.shape[1]):\n",
        "    print(\"%d. feature %d - %s (%f) \" % (f + 1, indices[f], colnames[indices[f]], importances[indices[f]]))\n",
        "\n",
        "plt.figure(num=None, figsize=(7, 5), dpi=80, facecolor='w', edgecolor='k')\n",
        "plt.title(\"Feature importances\")\n",
        "plt.bar(range(X.shape[1]), importances[indices],\n",
        "       color=\"r\", yerr=std[indices], align=\"center\")\n",
        "plt.xticks(range(X.shape[1]), indices)\n",
        "plt.xlim([-1, X.shape[1]])\n",
        "plt.show()"
      ],
      "execution_count": 12,
      "outputs": [
        {
          "output_type": "stream",
          "text": [
            "Feature ranking:\n",
            "1. feature 2 - cp (0.224430) \n",
            "2. feature 12 - thal (0.196120) \n",
            "3. feature 9 - oldpeak (0.115312) \n",
            "4. feature 11 - ca (0.107373) \n",
            "5. feature 7 - thalach (0.074184) \n",
            "6. feature 4 - chol (0.072450) \n",
            "7. feature 3 - trestbps (0.065642) \n",
            "8. feature 0 - age (0.062212) \n",
            "9. feature 10 - slope (0.029684) \n",
            "10. feature 1 - sex (0.021000) \n",
            "11. feature 8 - exang (0.015978) \n",
            "12. feature 6 - restecg (0.011040) \n",
            "13. feature 5 - fbs (0.004575) \n"
          ],
          "name": "stdout"
        },
        {
          "output_type": "display_data",
          "data": {
            "image/png": "[encoded data removed]",
            "text/plain": [
              "<matplotlib.figure.Figure at 0x7facfc32f780>"
            ]
          },
          "metadata": {
            "tags": []
          }
        }
      ]
    },
    {
      "metadata": {
        "id": "XXRDmsq0d0Yu",
        "colab_type": "code",
        "outputId": "556363aa-8246-4445-b9ea-99a426482b2a",
        "colab": {
          "base_uri": "https://localhost:8080/",
          "height": 102
        }
      },
      "cell_type": "code",
      "source": [
        "# Printing best top 5 features\n",
        "for f in range(5):\n",
        "    print(\"%d. feature %d - %s (%f)\" % (f + 1, indices[f], colnames[indices[f]] ,importances[indices[f]]))"
      ],
      "execution_count": 13,
      "outputs": [
        {
          "output_type": "stream",
          "text": [
            "1. feature 2 - cp (0.224430)\n",
            "2. feature 12 - thal (0.196120)\n",
            "3. feature 9 - oldpeak (0.115312)\n",
            "4. feature 11 - ca (0.107373)\n",
            "5. feature 7 - thalach (0.074184)\n"
          ],
          "name": "stdout"
        }
      ]
    },
    {
      "metadata": {
        "id": "Yc9Esqv0ejvS",
        "colab_type": "code",
        "colab": {}
      },
      "cell_type": "code",
      "source": [
        "best_features =  [colnames[indices[i]] for i in range(2)]"
      ],
      "execution_count": 0,
      "outputs": []
    },
    {
      "metadata": {
        "id": "mvfiTlHRfY-N",
        "colab_type": "code",
        "outputId": "b0203a8c-1211-4706-efa3-38389a4e12ab",
        "colab": {
          "base_uri": "https://localhost:8080/",
          "height": 34
        }
      },
      "cell_type": "code",
      "source": [
        "best_features"
      ],
      "execution_count": 15,
      "outputs": [
        {
          "output_type": "execute_result",
          "data": {
            "text/plain": [
              "['cp', 'thal']"
            ]
          },
          "metadata": {
            "tags": []
          },
          "execution_count": 15
        }
      ]
    },
    {
      "metadata": {
        "id": "M0YR0pVifiIY",
        "colab_type": "code",
        "colab": {}
      },
      "cell_type": "code",
      "source": [
        "new_data = dataFrame[best_features]"
      ],
      "execution_count": 0,
      "outputs": []
    },
    {
      "metadata": {
        "id": "zs25WmoggAXj",
        "colab_type": "code",
        "colab": {}
      },
      "cell_type": "code",
      "source": [
        "new_data_norm = normalize(new_data.values)"
      ],
      "execution_count": 0,
      "outputs": []
    },
    {
      "metadata": {
        "id": "cWSZwIaPgnWB",
        "colab_type": "code",
        "outputId": "9eaa2026-09ac-4bc8-baf9-cd73cbf5d4ad",
        "colab": {
          "base_uri": "https://localhost:8080/",
          "height": 1064
        }
      },
      "cell_type": "code",
      "source": [
        "clf_new = RandomForestClassifier(random_state=1)\n",
        "print(clf_new)\n",
        "clf_new = clf_new.fit(new_data_norm[:250],Y[:250])\n",
        "\n",
        "Y_new_predicted_RandomForest = clf_new.predict(new_data_norm[250:])\n",
        "\n",
        "print (\"Accuracy of the Random Forest is: \"+ str(accuracy(Y[250:],Y_new_predicted_RandomForest)))\n",
        "print (\"Precision and Recall for the Random Forest\\n\")\n",
        "print (metrics.classification_report(Y[250:],Y_new_predicted_RandomForest))\n",
        "print (\"Confusion Matrix\\n\")\n",
        "plot_confusion_matrix(Y[250:],Y_new_predicted_RandomForest)\n",
        "plot_stats_bargraph(Y[250:], Y_new_predicted_RandomForest)\n"
      ],
      "execution_count": 18,
      "outputs": [
        {
          "output_type": "stream",
          "text": [
            "RandomForestClassifier(bootstrap=True, class_weight=None, criterion='gini',\n",
            "            max_depth=None, max_features='auto', max_leaf_nodes=None,\n",
            "            min_impurity_decrease=0.0, min_impurity_split=None,\n",
            "            min_samples_leaf=1, min_samples_split=2,\n",
            "            min_weight_fraction_leaf=0.0, n_estimators='warn', n_jobs=None,\n",
            "            oob_score=False, random_state=1, verbose=0, warm_start=False)\n",
            "Accuracy of the Random Forest is: 73.58490566037736\n",
            "Precision and Recall for the Random Forest\n",
            "\n",
            "              precision    recall  f1-score   support\n",
            "\n",
            "         0.0       0.70      0.81      0.75        26\n",
            "         1.0       0.78      0.67      0.72        27\n",
            "\n",
            "   micro avg       0.74      0.74      0.74        53\n",
            "   macro avg       0.74      0.74      0.73        53\n",
            "weighted avg       0.74      0.74      0.73        53\n",
            "\n",
            "Confusion Matrix\n",
            "\n"
          ],
          "name": "stdout"
        },
        {
          "output_type": "stream",
          "text": [
            "/usr/local/lib/python3.6/dist-packages/sklearn/ensemble/forest.py:246: FutureWarning: The default value of n_estimators will change from 10 in version 0.20 to 100 in 0.22.\n",
            "  \"10 in version 0.20 to 100 in 0.22.\", FutureWarning)\n"
          ],
          "name": "stderr"
        },
        {
          "output_type": "display_data",
          "data": {
            "image/png": "[encoded data removed]",
            "text/plain": [
              "<matplotlib.figure.Figure at 0x7facfc29e710>"
            ]
          },
          "metadata": {
            "tags": []
          }
        },
        {
          "output_type": "display_data",
          "data": {
            "image/png": "[encoded data removed]",
            "text/plain": [
              "<matplotlib.figure.Figure at 0x7facfc29eda0>"
            ]
          },
          "metadata": {
            "tags": []
          }
        }
      ]
    },
    {
      "metadata": {
        "id": "43MnHdBIdRFn",
        "colab_type": "text"
      },
      "cell_type": "markdown",
      "source": [
        "**SVM**"
      ]
    },
    {
      "metadata": {
        "id": "pzIdM3ZOv9uv",
        "colab_type": "code",
        "outputId": "da87966f-2a34-474a-8ef3-5d474284543f",
        "colab": {
          "base_uri": "https://localhost:8080/",
          "height": 1525
        }
      },
      "cell_type": "code",
      "source": [
        "def prediction(X,X_SV,Y_SV,W0,alpha_SV):\n",
        "    Y_prediction = []\n",
        "    \n",
        "    for x in X:\n",
        "        res = 0\n",
        "        for i in range(len(alpha_SV)):\n",
        "            res += alpha_SV[i]*Y_SV[i]*rbsKernal(X_SV[i],x)\n",
        "        \n",
        "        if res + W0 > 0:\n",
        "            Y_prediction.append(1)\n",
        "        else:\n",
        "            Y_prediction.append(-1)\n",
        "            \n",
        "    return np.array(Y_prediction)   \n",
        "\n",
        "def rbsKernal(X,Y,sigma = 3.0):\n",
        "    return np.exp((-(np.linalg.norm(X-Y)**2))/(2*sigma**2))\n",
        "\n",
        "\n",
        "def gram_matrix(X):\n",
        "    m = len(X)\n",
        "    gramMatrix = np.zeros(shape=(m,m))\n",
        "    for i in range(m):\n",
        "        x = X[i]\n",
        "        for j in range(m):        \n",
        "            y = X[j]\n",
        "            gramMatrix[i][j] += rbsKernal(x,y)\n",
        "    \n",
        "    return gramMatrix\n",
        "\n",
        "\n",
        "def training(X,Y,e,c):\n",
        "    \n",
        "    P = (gram_matrix(X)) * (np.dot(Y,np.transpose(Y)))\n",
        "    q = np.zeros(shape=(X.shape[0],1))\n",
        "    q.fill(-1)\n",
        "    \n",
        "    G1 = np.zeros(shape=(X.shape[0],X.shape[0]))\n",
        "    np.fill_diagonal(G1,-1)\n",
        "    G2 = np.zeros(shape=(X.shape[0],X.shape[0]))\n",
        "    np.fill_diagonal(G2,1)\n",
        "    G = np.concatenate((G1,G2))\n",
        "    \n",
        "    H1 = np.zeros(shape = (X.shape[0],1))\n",
        "    H2 = np.full((X.shape[0],1),c)\n",
        "    H = np.concatenate((H1,H2))\n",
        "    \n",
        "    A = np.transpose(Y)\n",
        "    \n",
        "    b = 0\n",
        "    \n",
        "    soln = solvers.qp(matrix(P,tc = 'd'),\n",
        "                  matrix(q),\n",
        "                  matrix(G,tc = 'd'),\n",
        "                  matrix(H,tc = 'd'),\n",
        "                  matrix(A,tc = 'd'),\n",
        "                  matrix(b,tc='d'))\n",
        "    \n",
        "    alpha = (np.ravel(soln['x']))\n",
        "    \n",
        "    alpha_SV = alpha[alpha>e]\n",
        "    X_SV = X[alpha>e]\n",
        "    Y_SV = Y[alpha>e]\n",
        "    index = np.where(alpha>e)\n",
        "    \n",
        "    W0 = 0\n",
        "    for i in range(len(alpha_SV)):\n",
        "        res = 0\n",
        "        for j in range(len(alpha_SV)):\n",
        "            res += alpha_SV[j]*Y_SV[j]*rbsKernal(X[j],X[i])\n",
        "        W0 += Y[i] - res\n",
        "    \n",
        "    W0 = 1. * W0/len(alpha_SV) \n",
        "    \n",
        "    return (alpha_SV,X_SV,Y_SV,W0,index[0])\n",
        "\n",
        "\n",
        "def SVM(X,Y,e,c):\n",
        "  \n",
        "    Y = np.reshape(np.array(Y),(len(Y),1))\n",
        "    Y[Y == 0] = -1\n",
        "    \n",
        "    alpha_SV,X_SV,Y_SV,W0,index = training(X[:250],Y[:250],e,c)\n",
        "    \n",
        "    Y_hat_svm = prediction(X[250:],X_SV,Y_SV,W0,alpha_SV)\n",
        "    \n",
        "    Y_hat_svm[Y_hat_svm == -1] = 0\n",
        "    \n",
        "    return Y_hat_svm\n",
        "\n",
        "\n",
        "\n",
        "Y_predicted_svm = SVM(X_norm,Y,0.0001,7)\n",
        "\n",
        "\n",
        "print (\"Accuracy of the SVM is: \"+ str(accuracy(Y[250:],Y_predicted_svm)))\n",
        "print (\"Precision and Recall for the SVM \\n\")\n",
        "print (metrics.classification_report(Y[250:],Y_predicted_svm))\n",
        "print (\"Confusion Matrix\\n\")\n",
        "plot_confusion_matrix(Y[250:],Y_predicted_svm)\n",
        "plot_stats_bargraph(Y[250:], Y_predicted_svm)\n",
        "\n",
        "pca = PCA(n_components=2)\n",
        "principalComponents = pca.fit_transform(X_norm)\n",
        "\n",
        "C = 1.0  # SVM regularization parameter\n",
        "models = (svm.SVC(kernel='linear', C=C),\n",
        "          svm.LinearSVC(C=C),\n",
        "          svm.SVC(kernel='rbf', gamma=0.7, C=C),\n",
        "          svm.SVC(kernel='poly', degree=3, C=C))\n",
        "models = (clf.fit(principalComponents,Y[:]) for clf in models)\n",
        "\n",
        "def make_meshgrid(x, y, h=.02):\n",
        "    x_min, x_max = x.min() - 1, x.max() + 1\n",
        "    y_min, y_max = y.min() - 1, y.max() + 1\n",
        "    xx, yy = np.meshgrid(np.arange(x_min, x_max, h),\n",
        "                         np.arange(y_min, y_max, h))\n",
        "    return xx, yy\n",
        "\n",
        "\n",
        "def plot_contours(ax, clf, xx, yy, **params):\n",
        "    Z = clf.predict(np.c_[xx.ravel(), yy.ravel()])\n",
        "    Z = Z.reshape(xx.shape)\n",
        "    out = ax.contourf(xx, yy, Z, **params)\n",
        "    return out\n",
        "\n",
        "titles = ('SVC with linear kernel',\n",
        "          'LinearSVC (linear kernel)',\n",
        "          'SVC with RBF kernel',\n",
        "          'SVC with polynomial (degree 3) kernel')\n",
        "\n",
        "# Set-up 2x2 grid for plotting.\n",
        "fig, sub = plt.subplots(2, 2)\n",
        "plt.subplots_adjust(wspace=0.4, hspace=0.4)\n",
        "\n",
        "X0, X1 = principalComponents[:,0], principalComponents[:, 1]\n",
        "xx, yy = make_meshgrid(X0, X1)\n",
        "\n",
        "for clf, title, ax in zip(models, titles, sub.flatten()):\n",
        "    plot_contours(ax, clf, xx, yy,\n",
        "                  cmap=plt.cm.coolwarm, alpha=0.8)\n",
        "    ax.scatter(X0, X1, c=Y, cmap=plt.cm.coolwarm, s=20, edgecolors='k')\n",
        "    ax.set_xlim(xx.min(), xx.max())\n",
        "    ax.set_ylim(yy.min(), yy.max())\n",
        "    ax.set_xlabel('X')\n",
        "    ax.set_ylabel('Y')\n",
        "    ax.set_xticks(())\n",
        "    ax.set_yticks(())\n",
        "    ax.set_title(title)\n",
        "\n",
        "plt.show()"
      ],
      "execution_count": 19,
      "outputs": [
        {
          "output_type": "stream",
          "text": [
            "     pcost       dcost       gap    pres   dres\n",
            " 0: -1.7854e+02 -7.1292e+03  1e+04  3e-01  2e-14\n",
            " 1: -2.7799e+02 -1.3169e+03  1e+03  7e-03  2e-14\n",
            " 2: -4.3512e+02 -8.5431e+02  4e+02  2e-03  1e-14\n",
            " 3: -5.1442e+02 -6.8235e+02  2e+02  7e-04  1e-14\n",
            " 4: -5.5344e+02 -6.2936e+02  8e+01  3e-04  1e-14\n",
            " 5: -5.6832e+02 -6.0934e+02  4e+01  1e-04  1e-14\n",
            " 6: -5.8073e+02 -5.9085e+02  1e+01  1e-05  2e-14\n",
            " 7: -5.8417e+02 -5.8629e+02  2e+00  3e-15  2e-14\n",
            " 8: -5.8507e+02 -5.8518e+02  1e-01  1e-14  2e-14\n",
            " 9: -5.8512e+02 -5.8512e+02  3e-03  3e-14  2e-14\n",
            "10: -5.8512e+02 -5.8512e+02  8e-05  3e-14  2e-14\n",
            "Optimal solution found.\n",
            "Accuracy of the SVM is: 79.24528301886792\n",
            "Precision and Recall for the SVM \n",
            "\n",
            "              precision    recall  f1-score   support\n",
            "\n",
            "         0.0       0.78      0.81      0.79        26\n",
            "         1.0       0.81      0.78      0.79        27\n",
            "\n",
            "   micro avg       0.79      0.79      0.79        53\n",
            "   macro avg       0.79      0.79      0.79        53\n",
            "weighted avg       0.79      0.79      0.79        53\n",
            "\n",
            "Confusion Matrix\n",
            "\n"
          ],
          "name": "stdout"
        },
        {
          "output_type": "stream",
          "text": [
            "/usr/local/lib/python3.6/dist-packages/sklearn/svm/base.py:196: FutureWarning: The default value of gamma will change from 'auto' to 'scale' in version 0.22 to account better for unscaled features. Set gamma explicitly to 'auto' or 'scale' to avoid this warning.\n",
            "  \"avoid this warning.\", FutureWarning)\n"
          ],
          "name": "stderr"
        },
        {
          "output_type": "display_data",
          "data": {
            "image/png": "[encoded data removed]",
            "text/plain": [
              "<matplotlib.figure.Figure at 0x7facfc105b70>"
            ]
          },
          "metadata": {
            "tags": []
          }
        },
        {
          "output_type": "display_data",
          "data": {
            "image/png": "[encoded data removed]",
            "text/plain": [
              "<matplotlib.figure.Figure at 0x7facfc105550>"
            ]
          },
          "metadata": {
            "tags": []
          }
        },
        {
          "output_type": "display_data",
          "data": {
            "image/png": "[encoded data removed]",
            "text/plain": [
              "<matplotlib.figure.Figure at 0x7facf93fb080>"
            ]
          },
          "metadata": {
            "tags": []
          }
        }
      ]
    },
    {
      "metadata": {
        "id": "po_6j0ZqdYej",
        "colab_type": "text"
      },
      "cell_type": "markdown",
      "source": [
        "**SVM USING SKLEARN**"
      ]
    },
    {
      "metadata": {
        "id": "zofgI8TKWHtt",
        "colab_type": "code",
        "outputId": "885be424-90b2-4d93-ddf1-05b4e31f57bb",
        "colab": {
          "base_uri": "https://localhost:8080/",
          "height": 904
        }
      },
      "cell_type": "code",
      "source": [
        "clf4 = SVC(C=1, kernel='linear',gamma=0.1)\n",
        "clf4.fit(X_norm[:250], Y[:250]) \n",
        "Y_Predicted_SkSvm = clf4.predict(X_norm[250:])\n",
        "\n",
        "print (\"Accuracy of the SVM using sklearn-linear is: \"+ str(accuracy(Y[250:],Y_Predicted_SkSvm)))\n",
        "print (\"Precision and Recall for the SVM \\n\")\n",
        "print (metrics.classification_report(Y[250:],Y_Predicted_SkSvm))\n",
        "print (\"Confusion Matrix\\n\")\n",
        "plot_confusion_matrix(Y[250:],Y_Predicted_SkSvm)\n",
        "plot_stats_bargraph(Y[250:], Y_Predicted_SkSvm)"
      ],
      "execution_count": 20,
      "outputs": [
        {
          "output_type": "stream",
          "text": [
            "Accuracy of the SVM using sklearn-linear is: 77.35849056603774\n",
            "Precision and Recall for the SVM \n",
            "\n",
            "              precision    recall  f1-score   support\n",
            "\n",
            "         0.0       0.72      0.88      0.79        26\n",
            "         1.0       0.86      0.67      0.75        27\n",
            "\n",
            "   micro avg       0.77      0.77      0.77        53\n",
            "   macro avg       0.79      0.78      0.77        53\n",
            "weighted avg       0.79      0.77      0.77        53\n",
            "\n",
            "Confusion Matrix\n",
            "\n"
          ],
          "name": "stdout"
        },
        {
          "output_type": "display_data",
          "data": {
            "image/png": "[encoded data removed]",
            "text/plain": [
              "<matplotlib.figure.Figure at 0x7facfc1fd5f8>"
            ]
          },
          "metadata": {
            "tags": []
          }
        },
        {
          "output_type": "display_data",
          "data": {
            "image/png": "[encoded data removed]",
            "text/plain": [
              "<matplotlib.figure.Figure at 0x7facfc196f28>"
            ]
          },
          "metadata": {
            "tags": []
          }
        }
      ]
    },
    {
      "metadata": {
        "id": "MRp20xT-kGD1",
        "colab_type": "code",
        "outputId": "b74edfbc-f27f-4d41-c741-34799b40ec25",
        "colab": {
          "base_uri": "https://localhost:8080/",
          "height": 962
        }
      },
      "cell_type": "code",
      "source": [
        "clf4 = SVC(C=1, kernel='poly', degree=3)\n",
        "clf4.fit(principalComponents[:250], Y[:250]) \n",
        "Y_Predicted_SkSvm = clf4.predict(principalComponents[250:])\n",
        "\n",
        "print (\"Accuracy of the SVM using sklearn-poly is: \"+ str(accuracy(Y[250:],Y_Predicted_SkSvm)))\n",
        "print (\"Precision and Recall for the SVM \\n\")\n",
        "print (metrics.classification_report(Y[250:],Y_Predicted_SkSvm))\n",
        "print (\"Confusion Matrix\\n\")\n",
        "plot_confusion_matrix(Y[250:],Y_Predicted_SkSvm)\n",
        "plot_stats_bargraph(Y[250:], Y_Predicted_SkSvm)"
      ],
      "execution_count": 21,
      "outputs": [
        {
          "output_type": "stream",
          "text": [
            "/usr/local/lib/python3.6/dist-packages/sklearn/svm/base.py:196: FutureWarning: The default value of gamma will change from 'auto' to 'scale' in version 0.22 to account better for unscaled features. Set gamma explicitly to 'auto' or 'scale' to avoid this warning.\n",
            "  \"avoid this warning.\", FutureWarning)\n"
          ],
          "name": "stderr"
        },
        {
          "output_type": "stream",
          "text": [
            "Accuracy of the SVM using sklearn-poly is: 67.9245283018868\n",
            "Precision and Recall for the SVM \n",
            "\n",
            "              precision    recall  f1-score   support\n",
            "\n",
            "         0.0       0.62      0.92      0.74        26\n",
            "         1.0       0.86      0.44      0.59        27\n",
            "\n",
            "   micro avg       0.68      0.68      0.68        53\n",
            "   macro avg       0.74      0.68      0.66        53\n",
            "weighted avg       0.74      0.68      0.66        53\n",
            "\n",
            "Confusion Matrix\n",
            "\n"
          ],
          "name": "stdout"
        },
        {
          "output_type": "display_data",
          "data": {
            "image/png": "[encoded data removed]",
            "text/plain": [
              "<matplotlib.figure.Figure at 0x7facf7a06860>"
            ]
          },
          "metadata": {
            "tags": []
          }
        },
        {
          "output_type": "display_data",
          "data": {
            "image/png": "[encoded data removed]",
            "text/plain": [
              "<matplotlib.figure.Figure at 0x7facf7a11b38>"
            ]
          },
          "metadata": {
            "tags": []
          }
        }
      ]
    },
    {
      "metadata": {
        "id": "SVkG7JfZnTe0",
        "colab_type": "text"
      },
      "cell_type": "markdown",
      "source": [
        "**NEURAL NETWORK USING SKLEARN**"
      ]
    },
    {
      "metadata": {
        "id": "7Vj9TkLknPSm",
        "colab_type": "code",
        "outputId": "2af4099d-ee8e-4624-a797-58abd921d26b",
        "colab": {
          "base_uri": "https://localhost:8080/",
          "height": 989
        }
      },
      "cell_type": "code",
      "source": [
        "clfn = MLPClassifier(solver='lbfgs', alpha=1e-5, hidden_layer_sizes=(1), random_state=1)\n",
        "clfn.fit(X_norm[:250],Y[:250])\n",
        "print(clfn)\n",
        "predictions = clfn.predict(X_norm[250:])\n",
        "print(clfn.score(X_norm[:250], Y[:250]))\n",
        "print (\"Accuracy of the Neural Network is: \"+ str(accuracy(Y[250:],predictions)))\n",
        "print (metrics.classification_report(Y[250:],predictions))\n",
        "print(plot_confusion_matrix(Y[250:],predictions))\n",
        "plot_stats_bargraph(Y[250:], predictions)"
      ],
      "execution_count": 22,
      "outputs": [
        {
          "output_type": "stream",
          "text": [
            "MLPClassifier(activation='relu', alpha=1e-05, batch_size='auto', beta_1=0.9,\n",
            "       beta_2=0.999, early_stopping=False, epsilon=1e-08,\n",
            "       hidden_layer_sizes=1, learning_rate='constant',\n",
            "       learning_rate_init=0.001, max_iter=200, momentum=0.9,\n",
            "       n_iter_no_change=10, nesterovs_momentum=True, power_t=0.5,\n",
            "       random_state=1, shuffle=True, solver='lbfgs', tol=0.0001,\n",
            "       validation_fraction=0.1, verbose=False, warm_start=False)\n",
            "0.872\n",
            "Accuracy of the Neural Network is: 77.35849056603774\n",
            "              precision    recall  f1-score   support\n",
            "\n",
            "         0.0       0.72      0.88      0.79        26\n",
            "         1.0       0.86      0.67      0.75        27\n",
            "\n",
            "   micro avg       0.77      0.77      0.77        53\n",
            "   macro avg       0.79      0.78      0.77        53\n",
            "weighted avg       0.79      0.77      0.77        53\n",
            "\n",
            "None\n"
          ],
          "name": "stdout"
        },
        {
          "output_type": "display_data",
          "data": {
            "image/png": "[encoded data removed]",
            "text/plain": [
              "<matplotlib.figure.Figure at 0x7facfc2054a8>"
            ]
          },
          "metadata": {
            "tags": []
          }
        },
        {
          "output_type": "display_data",
          "data": {
            "image/png": "[encoded data removed]",
            "text/plain": [
              "<matplotlib.figure.Figure at 0x7facf79a8940>"
            ]
          },
          "metadata": {
            "tags": []
          }
        }
      ]
    },
    {
      "metadata": {
        "id": "r-utz1nMQ7T2",
        "colab_type": "code",
        "outputId": "731b5ea4-34ed-4cce-a6e1-ff9bbb2ef469",
        "colab": {
          "base_uri": "https://localhost:8080/",
          "height": 904
        }
      },
      "cell_type": "code",
      "source": [
        "neigh = KNeighborsClassifier(n_neighbors=3, metric='manhattan')\n",
        "neigh.fit(X_norm[:250], Y[:250])\n",
        "print(neigh)\n",
        "predictions_KNeighbour = neigh.predict(X_norm[250:])\n",
        "print (\"Accuracy of the kNN is: \"+ str(accuracy(Y[250:],predictions_KNeighbour)))\n",
        "print (metrics.classification_report(Y[250:],predictions_KNeighbour))\n",
        "print(plot_confusion_matrix(Y[250:],predictions_KNeighbour))\n",
        "plot_stats_bargraph(Y[250:], predictions_KNeighbour)"
      ],
      "execution_count": 23,
      "outputs": [
        {
          "output_type": "stream",
          "text": [
            "KNeighborsClassifier(algorithm='auto', leaf_size=30, metric='manhattan',\n",
            "           metric_params=None, n_jobs=None, n_neighbors=3, p=2,\n",
            "           weights='uniform')\n",
            "Accuracy of the kNN is: 77.35849056603774\n",
            "              precision    recall  f1-score   support\n",
            "\n",
            "         0.0       0.72      0.88      0.79        26\n",
            "         1.0       0.86      0.67      0.75        27\n",
            "\n",
            "   micro avg       0.77      0.77      0.77        53\n",
            "   macro avg       0.79      0.78      0.77        53\n",
            "weighted avg       0.79      0.77      0.77        53\n",
            "\n",
            "None\n"
          ],
          "name": "stdout"
        },
        {
          "output_type": "display_data",
          "data": {
            "image/png": "[encoded data removed]",
            "text/plain": [
              "<matplotlib.figure.Figure at 0x7facfed1f780>"
            ]
          },
          "metadata": {
            "tags": []
          }
        },
        {
          "output_type": "display_data",
          "data": {
            "image/png": "[encoded data removed]",
            "text/plain": [
              "<matplotlib.figure.Figure at 0x7facfc24ca20>"
            ]
          },
          "metadata": {
            "tags": []
          }
        }
      ]
    },
    {
      "metadata": {
        "id": "oGP5Z120jxuf",
        "colab_type": "code",
        "outputId": "c7142f32-f23a-49d1-8ce2-da3e55c53b9d",
        "colab": {
          "base_uri": "https://localhost:8080/",
          "height": 904
        }
      },
      "cell_type": "code",
      "source": [
        "neigh = KNeighborsClassifier(n_neighbors=3, metric='euclidean')\n",
        "neigh.fit(X_norm[:250], Y[:250])\n",
        "print(neigh)\n",
        "predictions_KNeighbour = neigh.predict(X_norm[250:])\n",
        "print (\"Accuracy of the kNN is: \"+ str(accuracy(Y[250:],predictions_KNeighbour)))\n",
        "print (metrics.classification_report(Y[250:],predictions_KNeighbour))\n",
        "print(plot_confusion_matrix(Y[250:],predictions_KNeighbour))\n",
        "plot_stats_bargraph(Y[250:], predictions_KNeighbour)"
      ],
      "execution_count": 24,
      "outputs": [
        {
          "output_type": "stream",
          "text": [
            "KNeighborsClassifier(algorithm='auto', leaf_size=30, metric='euclidean',\n",
            "           metric_params=None, n_jobs=None, n_neighbors=3, p=2,\n",
            "           weights='uniform')\n",
            "Accuracy of the kNN is: 73.58490566037736\n",
            "              precision    recall  f1-score   support\n",
            "\n",
            "         0.0       0.68      0.88      0.77        26\n",
            "         1.0       0.84      0.59      0.70        27\n",
            "\n",
            "   micro avg       0.74      0.74      0.74        53\n",
            "   macro avg       0.76      0.74      0.73        53\n",
            "weighted avg       0.76      0.74      0.73        53\n",
            "\n",
            "None\n"
          ],
          "name": "stdout"
        },
        {
          "output_type": "display_data",
          "data": {
            "image/png": "[encoded data removed]",
            "text/plain": [
              "<matplotlib.figure.Figure at 0x7facf79acba8>"
            ]
          },
          "metadata": {
            "tags": []
          }
        },
        {
          "output_type": "display_data",
          "data": {
            "image/png": "[encoded data removed]",
            "text/plain": [
              "<matplotlib.figure.Figure at 0x7facfecd6f60>"
            ]
          },
          "metadata": {
            "tags": []
          }
        }
      ]
    },
    {
      "metadata": {
        "id": "1nXruiCtZDeP",
        "colab_type": "code",
        "outputId": "b7fa7793-f37e-4441-c921-fa76f6811355",
        "colab": {
          "base_uri": "https://localhost:8080/",
          "height": 908
        }
      },
      "cell_type": "code",
      "source": [
        "neigh = KNeighborsClassifier(n_neighbors=3, metric='cosine')\n",
        "neigh.fit(X_norm[:250], Y[:250])\n",
        "print(neigh)\n",
        "predictions_KNeighbour = neigh.predict(X_norm[250:])\n",
        "print (\"Accuracy of the kNN is: \"+ str(accuracy(Y[250:],predictions_KNeighbour)))\n",
        "print (metrics.classification_report(Y[250:],predictions_KNeighbour))\n",
        "print(plot_confusion_matrix(Y[250:],predictions_KNeighbour))\n",
        "plot_stats_bargraph(Y[250:], predictions_KNeighbour)"
      ],
      "execution_count": 25,
      "outputs": [
        {
          "output_type": "stream",
          "text": [
            "KNeighborsClassifier(algorithm='auto', leaf_size=30, metric='cosine',\n",
            "           metric_params=None, n_jobs=None, n_neighbors=3, p=2,\n",
            "           weights='uniform')\n",
            "Accuracy of the kNN is: 69.81132075471697\n",
            "              precision    recall  f1-score   support\n",
            "\n",
            "         0.0       0.66      0.81      0.72        26\n",
            "         1.0       0.76      0.59      0.67        27\n",
            "\n",
            "   micro avg       0.70      0.70      0.70        53\n",
            "   macro avg       0.71      0.70      0.70        53\n",
            "weighted avg       0.71      0.70      0.69        53\n",
            "\n",
            "None\n"
          ],
          "name": "stdout"
        },
        {
          "output_type": "display_data",
          "data": {
            "image/png": "[encoded data removed]",
            "text/plain": [
              "<matplotlib.figure.Figure at 0x7facfc125550>"
            ]
          },
          "metadata": {
            "tags": []
          }
        },
        {
          "output_type": "display_data",
          "data": {
            "image/png": "[encoded data removed]",
            "text/plain": [
              "<matplotlib.figure.Figure at 0x7facf79b6e48>"
            ]
          },
          "metadata": {
            "tags": []
          }
        }
      ]
    }
  ]
}